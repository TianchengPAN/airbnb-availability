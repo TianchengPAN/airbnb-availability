{
 "cells": [
  {
   "cell_type": "code",
   "execution_count": 1,
   "metadata": {},
   "outputs": [],
   "source": [
    "import numpy as np # linear algebra\n",
    "import pandas as pd # data processing, CSV file I/O (e.g. pd.read_csv)\n",
    "from matplotlib import pyplot as plt\n",
    "import seaborn as sns\n",
    "import sklearn\n",
    "import gower\n",
    "import time\n",
    "\n",
    "from sklearn.preprocessing import OrdinalEncoder\n",
    "from sklearn.ensemble import RandomForestClassifier\n",
    "from sklearn.model_selection import cross_val_score, KFold\n",
    "from sklearn.ensemble import AdaBoostClassifier\n",
    "from sklearn.tree import DecisionTreeClassifier\n",
    "from sklearn.metrics import confusion_matrix\n",
    "from sklearn.decomposition import PCA\n",
    "from sklearn.model_selection import GridSearchCV\n",
    "from datetime import datetime\n",
    "from numpy.random import seed\n",
    "from numpy.random import rand\n",
    "from sklearn.model_selection import RandomizedSearchCV\n",
    "from sklearn.model_selection import cross_validate\n",
    "from scipy.spatial import distance\n",
    "from sklearn.preprocessing import MinMaxScaler\n",
    "from sklearn.preprocessing import OneHotEncoder\n",
    "from dtreeviz.trees import dtreeviz\n",
    "from sklearn import svm\n",
    "import libsvm\n",
    "from libsvm.svmutil import *"
   ]
  },
  {
   "cell_type": "markdown",
   "metadata": {},
   "source": [
    "#### Accuracy"
   ]
  },
  {
   "cell_type": "code",
   "execution_count": 2,
   "metadata": {},
   "outputs": [],
   "source": [
    "def accuracy(predict, label):\n",
    "    cm = confusion_matrix(label, predict)\n",
    "    return sum(np.diag(cm))/cm.sum()"
   ]
  },
  {
   "cell_type": "markdown",
   "metadata": {},
   "source": [
    "## PCA and cleaning"
   ]
  },
  {
   "cell_type": "code",
   "execution_count": 3,
   "metadata": {},
   "outputs": [],
   "source": [
    "train_set = pd.read_csv('train.csv')\n",
    "test_set = pd.read_csv('test.csv')"
   ]
  },
  {
   "cell_type": "markdown",
   "metadata": {},
   "source": [
    "Notice for both train and test dataset, I all have the missing value. Thus, for train dataset, we simply delete the columns with missing data since we have enought data and the missing is not alot. However, for the test data, to finish all the prediction in kaggle requirement, I replace the na by the most common variable in that column."
   ]
  },
  {
   "cell_type": "code",
   "execution_count": 4,
   "metadata": {},
   "outputs": [
    {
     "name": "stdout",
     "output_type": "stream",
     "text": [
      "<class 'pandas.core.frame.DataFrame'>\n",
      "RangeIndex: 7471 entries, 0 to 7470\n",
      "Data columns (total 22 columns):\n",
      "id                        7471 non-null int64\n",
      "Decision                  7471 non-null int64\n",
      "Host_response_time        6613 non-null object\n",
      "Host_is_superhost         7375 non-null object\n",
      "Host_has_profile_pic      7375 non-null object\n",
      "Host_identity_verified    7375 non-null object\n",
      "Neighbourhood             7471 non-null int64\n",
      "Property_type             7471 non-null object\n",
      "Room_type                 7471 non-null object\n",
      "Accommodates              7471 non-null int64\n",
      "Bathrooms_text            7471 non-null object\n",
      "Bedrooms                  6886 non-null float64\n",
      "Beds                      7458 non-null float64\n",
      "Essentials                7471 non-null int64\n",
      "Cooking                   7471 non-null int64\n",
      "Balcony                   7471 non-null int64\n",
      "Parking                   7471 non-null int64\n",
      "Price                     7471 non-null object\n",
      "Number_of_reviews         7471 non-null int64\n",
      "Review_scores_rating      7076 non-null float64\n",
      "Instant_bookable          7471 non-null object\n",
      "Month                     7471 non-null object\n",
      "dtypes: float64(3), int64(9), object(10)\n",
      "memory usage: 1.3+ MB\n",
      "\n",
      "\n",
      "<class 'pandas.core.frame.DataFrame'>\n",
      "RangeIndex: 2440 entries, 0 to 2439\n",
      "Data columns (total 21 columns):\n",
      "id                        2440 non-null int64\n",
      "Host_response_time        2147 non-null object\n",
      "Host_is_superhost         2424 non-null object\n",
      "Host_has_profile_pic      2424 non-null object\n",
      "Host_identity_verified    2424 non-null object\n",
      "Neighbourhood             2440 non-null int64\n",
      "Property_type             2440 non-null object\n",
      "Room_type                 2440 non-null object\n",
      "Accommodates              2440 non-null int64\n",
      "Bathrooms_text            2440 non-null object\n",
      "Bedrooms                  2291 non-null float64\n",
      "Beds                      2431 non-null float64\n",
      "Essentials                2440 non-null int64\n",
      "Cooking                   2440 non-null int64\n",
      "Balcony                   2440 non-null int64\n",
      "Parking                   2440 non-null int64\n",
      "Price                     2440 non-null object\n",
      "Number_of_reviews         2440 non-null int64\n",
      "Review_scores_rating      2166 non-null float64\n",
      "Instant_bookable          2440 non-null object\n",
      "Month                     2440 non-null object\n",
      "dtypes: float64(3), int64(8), object(10)\n",
      "memory usage: 400.4+ KB\n"
     ]
    }
   ],
   "source": [
    "train_set.info()\n",
    "print(\"\\n\")\n",
    "test_set.info()"
   ]
  },
  {
   "cell_type": "code",
   "execution_count": 5,
   "metadata": {},
   "outputs": [],
   "source": [
    "#after drop train dataset has 5866 observation in total\n",
    "train_set_dropna=train_set.dropna()"
   ]
  },
  {
   "cell_type": "code",
   "execution_count": 6,
   "metadata": {},
   "outputs": [],
   "source": [
    "for column in test_set:\n",
    "    mode = test_set[column].mode()\n",
    "    test_set[column] = test_set[column].fillna(mode[0])"
   ]
  },
  {
   "cell_type": "code",
   "execution_count": 7,
   "metadata": {},
   "outputs": [
    {
     "data": {
      "image/png": "[encoded data removed]",
      "text/plain": [
       "<Figure size 360x360 with 1 Axes>"
      ]
     },
     "metadata": {},
     "output_type": "display_data"
    },
    {
     "data": {
      "image/png": "[encoded data removed]",
      "text/plain": [
       "<Figure size 360x360 with 1 Axes>"
      ]
     },
     "metadata": {},
     "output_type": "display_data"
    },
    {
     "data": {
      "image/png": "[encoded data removed]",
      "text/plain": [
       "<Figure size 360x360 with 1 Axes>"
      ]
     },
     "metadata": {},
     "output_type": "display_data"
    },
    {
     "data": {
      "image/png": "[encoded data removed]",
      "text/plain": [
       "<Figure size 360x360 with 1 Axes>"
      ]
     },
     "metadata": {},
     "output_type": "display_data"
    },
    {
     "data": {
      "image/png": "[encoded data removed]",
      "text/plain": [
       "<Figure size 360x360 with 1 Axes>"
      ]
     },
     "metadata": {},
     "output_type": "display_data"
    },
    {
     "data": {
      "image/png": "[encoded data removed]",
      "text/plain": [
       "<Figure size 360x360 with 1 Axes>"
      ]
     },
     "metadata": {},
     "output_type": "display_data"
    },
    {
     "data": {
      "image/png": "[encoded data removed]",
      "text/plain": [
       "<Figure size 360x360 with 1 Axes>"
      ]
     },
     "metadata": {},
     "output_type": "display_data"
    },
    {
     "data": {
      "image/png": "[encoded data removed]",
      "text/plain": [
       "<Figure size 360x360 with 1 Axes>"
      ]
     },
     "metadata": {},
     "output_type": "display_data"
    },
    {
     "data": {
      "image/png": "[encoded data removed]",
      "text/plain": [
       "<Figure size 360x360 with 1 Axes>"
      ]
     },
     "metadata": {},
     "output_type": "display_data"
    },
    {
     "data": {
      "image/png": "[encoded data removed]",
      "text/plain": [
       "<Figure size 360x360 with 1 Axes>"
      ]
     },
     "metadata": {},
     "output_type": "display_data"
    }
   ],
   "source": [
    "## no reason to treat id as an parameter to build the model\n",
    "X_train = train_set_dropna.iloc[:,2:len(train_set.columns)]\n",
    "y_train = train_set_dropna.iloc[:,1]\n",
    "X_test = test_set.iloc[:,1:len(test_set.columns)]\n",
    "##simple plot to explore the dataset on non-numeric data \n",
    "for column in ['Host_response_time','Host_is_superhost','Host_has_profile_pic','Host_identity_verified','Neighbourhood','Property_type','Room_type','Bathrooms_text','Instant_bookable','Month']:\n",
    "    sns.catplot(x=column, kind=\"count\", data=train_set)"
   ]
  },
  {
   "cell_type": "code",
   "execution_count": 8,
   "metadata": {},
   "outputs": [],
   "source": [
    "## transfer T f data To 1 AND 0\n",
    "X_train.Host_is_superhost=X_train.Host_is_superhost.map({'t':1,'f':0})\n",
    "X_train.Host_has_profile_pic=X_train.Host_has_profile_pic.map({'t':1,'f':0})\n",
    "X_train.Host_identity_verified=X_train.Host_identity_verified.map({'t':1,'f':0})\n",
    "X_train.Instant_bookable=X_train.Instant_bookable.map({'t':1,'f':0})\n",
    "\n",
    "X_test.Host_is_superhost=X_test.Host_is_superhost.map({'t':1,'f':0})\n",
    "X_test.Host_has_profile_pic=X_test.Host_has_profile_pic.map({'t':1,'f':0})\n",
    "X_test.Host_identity_verified=X_test.Host_identity_verified.map({'t':1,'f':0})\n",
    "X_test.Instant_bookable=X_test.Instant_bookable.map({'t':1,'f':0})"
   ]
  },
  {
   "cell_type": "code",
   "execution_count": 9,
   "metadata": {},
   "outputs": [],
   "source": [
    "## For the Price, split is by dollars sign and save the price as numerical\n",
    "X_train.Price=X_train.Price.str.strip(\"$\").str.replace(\",\",\"\").astype('float')\n",
    "X_test.Price=X_test.Price.str.strip(\"$\").str.replace(\",\",\"\").astype('float')"
   ]
  },
  {
   "cell_type": "code",
   "execution_count": 10,
   "metadata": {},
   "outputs": [],
   "source": [
    "X_train=X_train.reset_index(drop=True)"
   ]
  },
  {
   "cell_type": "code",
   "execution_count": 11,
   "metadata": {},
   "outputs": [],
   "source": [
    "## create dummy variable for categorical data and notice Neighbourhood is categorical instead of numerical.\n",
    "## Notice when creating dummy variable, it is possible that train data has more category than test data. Thus we need to conbine them first\n",
    "X_train.Neighbourhood=X_train.Neighbourhood.astype('str')\n",
    "X_test.Neighbourhood=X_test.Neighbourhood.astype('str')\n",
    "\n",
    "df=X_train.append(X_test,sort=False).reset_index(drop=True)\n",
    "for column in ['Host_response_time','Neighbourhood','Property_type','Room_type','Bathrooms_text','Month']:\n",
    "    encoder=OneHotEncoder(sparse= False)\n",
    "    df_encoded=pd.DataFrame(encoder.fit_transform(df[[column]]))\n",
    "    df_encoded.columns=encoder.get_feature_names([column])\n",
    "    df.drop([column],axis=1,inplace=True)\n",
    "    df=pd.concat([df,df_encoded],axis=1)"
   ]
  },
  {
   "cell_type": "code",
   "execution_count": 12,
   "metadata": {},
   "outputs": [],
   "source": [
    "X_train=df[:5866]\n",
    "X_test=df[5866:]"
   ]
  },
  {
   "cell_type": "code",
   "execution_count": 13,
   "metadata": {},
   "outputs": [],
   "source": [
    "X_test=X_test.reset_index(drop=True)"
   ]
  },
  {
   "cell_type": "code",
   "execution_count": 14,
   "metadata": {},
   "outputs": [],
   "source": [
    "## However, for the parameter that has same value in X_train, it is meaningless to include them in the model, thus, delete such variable from both train and test dataset\n",
    "X_train_stand=(X_train-X_train.mean())/X_train.std()\n",
    "X_test_stand=(X_test-X_train.mean())/X_train.std()\n",
    "\n",
    "X_train_stand_clean=X_train_stand.drop(list(X_train.columns[X_train.std()==0]),axis=1)\n",
    "X_test_stand_clean=X_test_stand.drop(list(X_train.columns[X_train.std()==0]),axis=1)"
   ]
  },
  {
   "cell_type": "markdown",
   "metadata": {},
   "source": [
    "In the end, I have the train dataset with 5866 observations and 101 parameters. Notice even thought we have lots of variable, we also have relatively larger number of observations. Moreover, using PCA may let the interpretation to be harder since the parameters after PCA is much messy. Thus, I do not choose using PCA here."
   ]
  },
  {
   "cell_type": "markdown",
   "metadata": {},
   "source": [
    "## Method"
   ]
  },
  {
   "cell_type": "markdown",
   "metadata": {},
   "source": [
    "#### Random Forest"
   ]
  },
  {
   "cell_type": "code",
   "execution_count": 15,
   "metadata": {},
   "outputs": [],
   "source": [
    "# Initialize KFold object to be used throughout remaining code\n",
    "kf = KFold(n_splits = 5)"
   ]
  },
  {
   "cell_type": "code",
   "execution_count": 16,
   "metadata": {},
   "outputs": [],
   "source": [
    "## use cross validation for tuning parameters to compare different hyper-parameter, which the critertion in gini or entropy and the max depth from 3 to 37, the third of the total number of parameter\n",
    "depths = range(3,50,2)\n",
    "\n",
    "gini_acur=[]\n",
    "entropy_acur=[]\n",
    "\n",
    "for depth in depths:\n",
    "    ##gini\n",
    "    gini_forest=RandomForestClassifier(n_estimators=50,criterion='gini',max_depth=depth)\n",
    "    gini_acur.append(cross_validate(gini_forest,X_train_stand_clean,y_train)['test_score'].mean())\n",
    "    \n",
    "    #entropy\n",
    "    entropy_forest=RandomForestClassifier(n_estimators=50,criterion='entropy',max_depth=depth)\n",
    "    entropy_acur.append(cross_validate(entropy_forest,X_train_stand_clean,y_train)['test_score'].mean())\n",
    "    "
   ]
  },
  {
   "cell_type": "code",
   "execution_count": 17,
   "metadata": {},
   "outputs": [
    {
     "data": {
      "image/png": "[encoded data removed]",
      "text/plain": [
       "<Figure size 432x288 with 1 Axes>"
      ]
     },
     "metadata": {},
     "output_type": "display_data"
    }
   ],
   "source": [
    "plt.plot(depths,gini_acur,label = \"Gini\")\n",
    "plt.plot(depths,entropy_acur,label=\"Entropy\")\n",
    "plt.plot(depths[gini_acur.index(max(gini_acur))],gini_acur[gini_acur.index(max(gini_acur))],color='blue',marker = 'o')\n",
    "plt.plot(depths[entropy_acur.index(max(entropy_acur))],entropy_acur[entropy_acur.index(max(entropy_acur))],color='orange',marker = 'o')\n",
    "plt.legend()\n",
    "plt.title(\"Cross Validation Accuracy versus Depth of Tree\")\n",
    "plt.xlabel(\"Depth of Tree\")\n",
    "plt.ylabel(\"Cross Validation Accuracy\")\n",
    "plt.show()"
   ]
  },
  {
   "cell_type": "code",
   "execution_count": 18,
   "metadata": {},
   "outputs": [
    {
     "name": "stdout",
     "output_type": "stream",
     "text": [
      "The highest CV acurracy get from gini forest is 0.7850320455565383 at depth 43\n",
      "The highest CV acurracy get from enthropy forest is 0.7887819493399908 at depth 41\n"
     ]
    }
   ],
   "source": [
    "print(\"The highest CV acurracy get from gini forest is\",max(gini_acur),\"at depth\", depths[gini_acur.index(max(gini_acur))])\n",
    "print(\"The highest CV acurracy get from enthropy forest is\",max(entropy_acur),\"at depth\", depths[entropy_acur.index(max(entropy_acur))])"
   ]
  },
  {
   "cell_type": "markdown",
   "metadata": {},
   "source": [
    "Thus, from the cross validation, we best performance model from random forest is the Entropy forest with depth 49. However, for gini forest with depth 33, it has almost same accuracy but much less depths, which means it use much less parameter to achieve almost same result. Thus, I just Gini forest with depth 33 as my final forest model"
   ]
  },
  {
   "cell_type": "code",
   "execution_count": 19,
   "metadata": {},
   "outputs": [
    {
     "name": "stdout",
     "output_type": "stream",
     "text": [
      "The model build in 0.445512056350708 s\n"
     ]
    }
   ],
   "source": [
    "## Build the model with whole train dataset and make the prediction\n",
    "start = time.time()\n",
    "final_forest=RandomForestClassifier(n_estimators=50,criterion='gini',max_depth=33)\n",
    "final_forest.fit(X_train_stand_clean, y_train)\n",
    "end=time.time()\n",
    "print(\"The model build in\", end-start, \"s\")"
   ]
  },
  {
   "cell_type": "code",
   "execution_count": 86,
   "metadata": {},
   "outputs": [
    {
     "name": "stdout",
     "output_type": "stream",
     "text": [
      "0.039989471435546875\n"
     ]
    },
    {
     "data": {
      "text/plain": [
       "0.9998295260825094"
      ]
     },
     "execution_count": 86,
     "metadata": {},
     "output_type": "execute_result"
    }
   ],
   "source": [
    "y_train_predict = final_forest.predict(X_train_stand_clean)\n",
    "start=time.time()\n",
    "y_test_predict = final_forest.predict(X_test_stand_clean)\n",
    "end=time.time()\n",
    "print(end-start)\n",
    "accuracy(y_train_predict,y_train)"
   ]
  },
  {
   "cell_type": "code",
   "execution_count": 21,
   "metadata": {},
   "outputs": [],
   "source": [
    "pd.concat([test_set.id,pd.DataFrame(dict(Decision=y_test_predict))],axis=1).to_csv(\"Random_forest.csv\",index=False)"
   ]
  },
  {
   "cell_type": "markdown",
   "metadata": {},
   "source": [
    "The score from the kaggle before all the result can be observed is 0.325"
   ]
  },
  {
   "cell_type": "code",
   "execution_count": 22,
   "metadata": {},
   "outputs": [],
   "source": [
    "#dtreeviz(final_forest.estimators_[1], X_train, y_train,\n",
    "            #target_name=\"Airbnb Availability\",\n",
    "            #title=\"100th decision tree - Wine data\")"
   ]
  },
  {
   "cell_type": "markdown",
   "metadata": {},
   "source": [
    "#### Euclidean K-Nearest Neighbor"
   ]
  },
  {
   "cell_type": "code",
   "execution_count": null,
   "metadata": {},
   "outputs": [],
   "source": []
  },
  {
   "cell_type": "code",
   "execution_count": 23,
   "metadata": {},
   "outputs": [],
   "source": [
    "k_list = range(3,50,2)\n",
    "\n",
    "uni_acur=[]\n",
    "weight_acur=[]\n",
    "\n",
    "for k in k_list:\n",
    "    #uniform\n",
    "    uni_knn=sklearn.neighbors.KNeighborsClassifier(n_neighbors = k, weights = 'uniform', metric = 'euclidean')\n",
    "    uni_acur.append(cross_validate(uni_knn,X_train_stand_clean,y_train)['test_score'].mean())\n",
    "    \n",
    "    #weight\n",
    "    weight_knn=sklearn.neighbors.KNeighborsClassifier(n_neighbors = k, weights = 'distance', metric = 'euclidean')\n",
    "    weight_acur.append(cross_validate(weight_knn,X_train_stand_clean,y_train)['test_score'].mean())"
   ]
  },
  {
   "cell_type": "code",
   "execution_count": 24,
   "metadata": {},
   "outputs": [
    {
     "data": {
      "image/png": "[encoded data removed]",
      "text/plain": [
       "<Figure size 432x288 with 1 Axes>"
      ]
     },
     "metadata": {},
     "output_type": "display_data"
    }
   ],
   "source": [
    "plt.plot(k_list,uni_acur,label = \"uniform\")\n",
    "plt.plot(k_list,weight_acur,label=\"distance\")\n",
    "plt.plot(k_list[uni_acur.index(max(uni_acur))],uni_acur[uni_acur.index(max(uni_acur))],color='blue',marker = 'o')\n",
    "plt.plot(k_list[weight_acur.index(max(weight_acur))],weight_acur[weight_acur.index(max(weight_acur))],color='orange',marker = 'o')\n",
    "plt.legend()\n",
    "plt.title(\"Cross Validation Accuracy versus K of KNN\")\n",
    "plt.xlabel(\"K\")\n",
    "plt.ylabel(\"Cross Validation Accuracy\")\n",
    "plt.show()"
   ]
  },
  {
   "cell_type": "code",
   "execution_count": 25,
   "metadata": {},
   "outputs": [
    {
     "name": "stdout",
     "output_type": "stream",
     "text": [
      "The highest CV acurracy get from uniform KNN is 0.7178678122608202 at k= 13\n",
      "The highest CV acurracy get from Weight KNN is 0.7212765648441437 at k= 15\n"
     ]
    }
   ],
   "source": [
    "print(\"The highest CV acurracy get from uniform KNN is\",max(uni_acur),\"at k=\", k_list[uni_acur.index(max(uni_acur))])\n",
    "print(\"The highest CV acurracy get from Weight KNN is\",max(weight_acur),\"at k=\", k_list[weight_acur.index(max(weight_acur))])"
   ]
  },
  {
   "cell_type": "markdown",
   "metadata": {},
   "source": [
    "Thus, from the cross validation, we best performance model from Euclidean KNN is the Weight KNN with K 15."
   ]
  },
  {
   "cell_type": "code",
   "execution_count": 26,
   "metadata": {},
   "outputs": [
    {
     "name": "stdout",
     "output_type": "stream",
     "text": [
      "The model build in 0.004850625991821289 s\n"
     ]
    }
   ],
   "source": [
    "## Build the model with whole train dataset and make the prediction\n",
    "start = time.time()\n",
    "final_knn=sklearn.neighbors.KNeighborsClassifier(n_neighbors = 15, weights = 'distance', metric = 'euclidean')\n",
    "final_knn.fit(X_train_stand_clean, y_train)\n",
    "end=time.time()\n",
    "print(\"The model build in\", end-start, \"s\")"
   ]
  },
  {
   "cell_type": "code",
   "execution_count": 84,
   "metadata": {},
   "outputs": [
    {
     "name": "stdout",
     "output_type": "stream",
     "text": [
      "0.035572052001953125\n"
     ]
    },
    {
     "data": {
      "text/plain": [
       "1.0"
      ]
     },
     "execution_count": 84,
     "metadata": {},
     "output_type": "execute_result"
    }
   ],
   "source": [
    "y_train_predict = final_knn.predict(X_train_stand_clean)\n",
    "start=time.time()\n",
    "y_test_predict = final_forest.predict(X_test_stand_clean)\n",
    "end=time.time()\n",
    "print(end-start)\n",
    "accuracy(y_train_predict,y_train)"
   ]
  },
  {
   "cell_type": "code",
   "execution_count": 28,
   "metadata": {},
   "outputs": [],
   "source": [
    "pd.concat([test_set.id,pd.DataFrame(dict(Decision=y_test_predict))],axis=1).to_csv(\"KNN.csv\",index=False)"
   ]
  },
  {
   "cell_type": "markdown",
   "metadata": {},
   "source": [
    "#### SVM"
   ]
  },
  {
   "cell_type": "code",
   "execution_count": 29,
   "metadata": {},
   "outputs": [],
   "source": [
    "y_train_np=np.array(y_train)\n",
    "X_train_np=np.array(X_train_stand_clean)\n",
    "X_test_np=np.array(X_test_stand_clean)"
   ]
  },
  {
   "cell_type": "code",
   "execution_count": 52,
   "metadata": {},
   "outputs": [],
   "source": [
    "##linear\n",
    "##Notice for libsvm we can not use cv from sklearn. Thus,write own cv here\n",
    "C_range = [10**-7, 10**-6, 10**-5, 10**-4, 10**-3, 10**-2, 10**-1, 10**-0]\n",
    "linear_acur = []\n",
    "train_acur_list=[]\n",
    "param = svm_parameter('-s 0 -t 0')\n",
    "\n",
    "for c in C_range:\n",
    "    param.C=c\n",
    "    test_acurracy=0\n",
    "    train_acur=0\n",
    "    for train_index,test_index in kf.split(X_train_np):\n",
    "        X_train_fold, X_test_fold = X_train_np[train_index,:], X_train_np[test_index,:]\n",
    "        y_train_fold, y_test_fold = y_train_np[train_index], y_train_np[test_index]\n",
    "        prob=svm_problem(y_train_fold,X_train_fold)\n",
    "        model = svm_train(prob, param)\n",
    "        p_label, p_acc, p_val = svm_predict(y_test_fold, X_test_fold, model, options = '-q')\n",
    "        \n",
    "        test_acurracy+=(float(p_acc[0]/5))\n",
    "        p_label, p_acc, p_val = svm_predict(y_train_fold, X_train_fold, model, options = '-q')\n",
    "        train_acur+=(float(p_acc[0]/5))\n",
    "    \n",
    "    linear_acur.append(test_acurracy)\n",
    "    train_acur_list.append(train_acur)    \n"
   ]
  },
  {
   "cell_type": "code",
   "execution_count": 87,
   "metadata": {},
   "outputs": [
    {
     "data": {
      "image/png": "[encoded data removed]",
      "text/plain": [
       "<Figure size 432x288 with 1 Axes>"
      ]
     },
     "metadata": {},
     "output_type": "display_data"
    }
   ],
   "source": [
    "plt.plot(np.log(C_range),train_acur_list,label = \"Train\")\n",
    "plt.plot(np.log(C_range),linear_acur,label = \"Test\")\n",
    "plt.plot(list(np.log(C_range))[train_acur_list.index(max(train_acur_list))],train_acur_list[train_acur_list.index(max(train_acur_list))],color='blue',marker = 'o')\n",
    "plt.plot(list(np.log(C_range))[linear_acur.index(max(linear_acur))],linear_acur[linear_acur.index(max(linear_acur))],color='orange',marker = 'o')\n",
    "plt.legend()\n",
    "plt.title(\"Cross Validation Accuracy versus C of linear SVM\")\n",
    "plt.xlabel(\"log(C)\")\n",
    "plt.ylabel(\"Cross Validation Accuracy\")\n",
    "plt.show()"
   ]
  },
  {
   "cell_type": "code",
   "execution_count": 58,
   "metadata": {},
   "outputs": [
    {
     "name": "stdout",
     "output_type": "stream",
     "text": [
      "The highest CV acurracy get from linear SVM is 70.64462908339397 at C= 0.001\n"
     ]
    }
   ],
   "source": [
    "print(\"The highest CV acurracy get from linear SVM is\",max(linear_acur),\"at C=\", C_range[linear_acur.index(max(linear_acur))])"
   ]
  },
  {
   "cell_type": "code",
   "execution_count": 59,
   "metadata": {},
   "outputs": [],
   "source": [
    "## quadratic\n",
    "test_acurracy=0\n",
    "train_acur=0\n",
    "for train_index,test_index in kf.split(X_train_np):\n",
    "    X_train_fold, X_test_fold = X_train_np[train_index,:], X_train_np[test_index,:]\n",
    "    y_train_fold, y_test_fold = y_train_np[train_index], y_train_np[test_index]\n",
    "    param = svm_parameter('-s 0 -t 1 -d 3')\n",
    "    prob=svm_problem(y_train_fold,X_train_fold)\n",
    "    model = svm_train(prob, param)\n",
    "    p_label, p_acc, p_val = svm_predict(y_test_fold, X_test_fold, model, options = '-q')\n",
    "    test_acurracy+=(float(p_acc[0]/5))\n",
    "    p_label, p_acc, p_val = svm_predict(y_train_fold, X_train_fold, model, options = '-q')\n",
    "    train_acur+=(float(p_acc[0]/5))"
   ]
  },
  {
   "cell_type": "code",
   "execution_count": 61,
   "metadata": {},
   "outputs": [
    {
     "name": "stdout",
     "output_type": "stream",
     "text": [
      "The CV acurracy for quadratic SVM is 71.9574149191563\n"
     ]
    }
   ],
   "source": [
    "print(\"The CV acurracy for quadratic SVM is\", test_acurracy)"
   ]
  },
  {
   "cell_type": "code",
   "execution_count": 62,
   "metadata": {},
   "outputs": [],
   "source": [
    "#radical kernel\n",
    "sigmasq=[1,2,4,8,16,32,128]\n",
    "train_accuracy=[]\n",
    "test_accuracy=[]\n",
    "for sigma in sigmasq:\n",
    "    param = svm_parameter('-s 0 -t 2 -g '+str(1/sigma))\n",
    "    test_acur=0\n",
    "    train_acur=0\n",
    "    for train_index,test_index in kf.split(X_train_np):\n",
    "        X_train_fold, X_test_fold = X_train_np[train_index,:], X_train_np[test_index,:]\n",
    "        y_train_fold, y_test_fold = y_train_np[train_index], y_train_np[test_index]\n",
    "        prob=svm_problem(y_train_fold,X_train_fold)\n",
    "        model = svm_train(prob, param)\n",
    "        p_label, p_acc, p_val = svm_predict(y_test_fold, X_test_fold, model, options = '-q')\n",
    "        \n",
    "        test_acur+=(float(p_acc[0]/5))\n",
    "        p_label, p_acc, p_val = svm_predict(y_train_fold, X_train_fold, model, options = '-q')\n",
    "        train_acur+=(float(p_acc[0]/5))\n",
    "        \n",
    "    test_accuracy.append(test_acur)\n",
    "    train_accuracy.append(train_acur)"
   ]
  },
  {
   "cell_type": "code",
   "execution_count": 88,
   "metadata": {},
   "outputs": [
    {
     "data": {
      "image/png": "[encoded data removed]",
      "text/plain": [
       "<Figure size 432x288 with 1 Axes>"
      ]
     },
     "metadata": {},
     "output_type": "display_data"
    }
   ],
   "source": [
    "plt.plot(np.log(sigmasq),train_accuracy,label = \"Train\")\n",
    "plt.plot(np.log(sigmasq),test_accuracy,label = \"Test\")\n",
    "plt.plot(list(np.log(sigmasq))[train_accuracy.index(max(train_accuracy))],train_accuracy[train_accuracy.index(max(train_accuracy))],color='blue',marker = 'o')\n",
    "plt.plot(list(np.log(sigmasq))[test_accuracy.index(max(test_accuracy))],test_accuracy[test_accuracy.index(max(test_accuracy))],color='orange',marker = 'o')\n",
    "plt.legend()\n",
    "plt.title(\"Cross Validation Accuracy versus sigmasq of radical kernel SVM\")\n",
    "plt.xlabel(\"log(sigmasq)\")\n",
    "plt.ylabel(\"Cross Validation Accuracy\")\n",
    "plt.show()"
   ]
  },
  {
   "cell_type": "code",
   "execution_count": 64,
   "metadata": {},
   "outputs": [
    {
     "name": "stdout",
     "output_type": "stream",
     "text": [
      "The highest CV acurracy get from radical SVM is 74.42921439370504 at sigmasq= 32\n"
     ]
    }
   ],
   "source": [
    "print(\"The highest CV acurracy get from radical SVM is\",max(test_accuracy),\"at sigmasq=\", sigmasq[test_accuracy.index(max(test_accuracy))])"
   ]
  },
  {
   "cell_type": "code",
   "execution_count": 81,
   "metadata": {},
   "outputs": [
    {
     "name": "stdout",
     "output_type": "stream",
     "text": [
      "The model build in 7.325839281082153 s\n"
     ]
    }
   ],
   "source": [
    "## Final svm model\n",
    "start=time.time()\n",
    "param = svm_parameter('-s 0 -t 2 -g '+str(1/32))\n",
    "prob=svm_problem(y_train_np,X_train_np)\n",
    "Final_svm=svm_train(prob, param)\n",
    "end=time.time()\n",
    "print(\"The model build in\", end-start, \"s\")\n",
    "p_label, p_acc, p_val = svm_predict([], X_test_np, Final_svm, options = '-q')"
   ]
  },
  {
   "cell_type": "code",
   "execution_count": 82,
   "metadata": {},
   "outputs": [
    {
     "data": {
      "text/html": [
       "<div>\n",
       "<style scoped>\n",
       "    .dataframe tbody tr th:only-of-type {\n",
       "        vertical-align: middle;\n",
       "    }\n",
       "\n",
       "    .dataframe tbody tr th {\n",
       "        vertical-align: top;\n",
       "    }\n",
       "\n",
       "    .dataframe thead th {\n",
       "        text-align: right;\n",
       "    }\n",
       "</style>\n",
       "<table border=\"1\" class=\"dataframe\">\n",
       "  <thead>\n",
       "    <tr style=\"text-align: right;\">\n",
       "      <th></th>\n",
       "      <th>Decision</th>\n",
       "    </tr>\n",
       "  </thead>\n",
       "  <tbody>\n",
       "    <tr>\n",
       "      <th>0</th>\n",
       "      <td>0</td>\n",
       "    </tr>\n",
       "    <tr>\n",
       "      <th>1</th>\n",
       "      <td>1</td>\n",
       "    </tr>\n",
       "    <tr>\n",
       "      <th>2</th>\n",
       "      <td>1</td>\n",
       "    </tr>\n",
       "    <tr>\n",
       "      <th>3</th>\n",
       "      <td>1</td>\n",
       "    </tr>\n",
       "    <tr>\n",
       "      <th>4</th>\n",
       "      <td>1</td>\n",
       "    </tr>\n",
       "    <tr>\n",
       "      <th>...</th>\n",
       "      <td>...</td>\n",
       "    </tr>\n",
       "    <tr>\n",
       "      <th>2435</th>\n",
       "      <td>1</td>\n",
       "    </tr>\n",
       "    <tr>\n",
       "      <th>2436</th>\n",
       "      <td>1</td>\n",
       "    </tr>\n",
       "    <tr>\n",
       "      <th>2437</th>\n",
       "      <td>1</td>\n",
       "    </tr>\n",
       "    <tr>\n",
       "      <th>2438</th>\n",
       "      <td>1</td>\n",
       "    </tr>\n",
       "    <tr>\n",
       "      <th>2439</th>\n",
       "      <td>1</td>\n",
       "    </tr>\n",
       "  </tbody>\n",
       "</table>\n",
       "<p>2440 rows × 1 columns</p>\n",
       "</div>"
      ],
      "text/plain": [
       "      Decision\n",
       "0            0\n",
       "1            1\n",
       "2            1\n",
       "3            1\n",
       "4            1\n",
       "...        ...\n",
       "2435         1\n",
       "2436         1\n",
       "2437         1\n",
       "2438         1\n",
       "2439         1\n",
       "\n",
       "[2440 rows x 1 columns]"
      ]
     },
     "execution_count": 82,
     "metadata": {},
     "output_type": "execute_result"
    }
   ],
   "source": [
    "pd.DataFrame(dict(Decision=map(int,p_label)))"
   ]
  },
  {
   "cell_type": "code",
   "execution_count": 83,
   "metadata": {},
   "outputs": [],
   "source": [
    "pd.concat([test_set.id,pd.DataFrame(dict(Decision=map(int,p_label)))],axis=1).to_csv(\"svm.csv\",index=False)"
   ]
  },
  {
   "cell_type": "markdown",
   "metadata": {},
   "source": [
    "## Interpretation"
   ]
  },
  {
   "cell_type": "code",
   "execution_count": 89,
   "metadata": {},
   "outputs": [
    {
     "data": {
      "text/html": [
       "<div>\n",
       "<style scoped>\n",
       "    .dataframe tbody tr th:only-of-type {\n",
       "        vertical-align: middle;\n",
       "    }\n",
       "\n",
       "    .dataframe tbody tr th {\n",
       "        vertical-align: top;\n",
       "    }\n",
       "\n",
       "    .dataframe thead th {\n",
       "        text-align: right;\n",
       "    }\n",
       "</style>\n",
       "<table border=\"1\" class=\"dataframe\">\n",
       "  <thead>\n",
       "    <tr style=\"text-align: right;\">\n",
       "      <th></th>\n",
       "      <th>Variable</th>\n",
       "      <th>Importance</th>\n",
       "    </tr>\n",
       "  </thead>\n",
       "  <tbody>\n",
       "    <tr>\n",
       "      <th>10</th>\n",
       "      <td>Price</td>\n",
       "      <td>0.138561</td>\n",
       "    </tr>\n",
       "    <tr>\n",
       "      <th>11</th>\n",
       "      <td>Number_of_reviews</td>\n",
       "      <td>0.129382</td>\n",
       "    </tr>\n",
       "    <tr>\n",
       "      <th>12</th>\n",
       "      <td>Review_scores_rating</td>\n",
       "      <td>0.094241</td>\n",
       "    </tr>\n",
       "    <tr>\n",
       "      <th>3</th>\n",
       "      <td>Accommodates</td>\n",
       "      <td>0.047325</td>\n",
       "    </tr>\n",
       "    <tr>\n",
       "      <th>7</th>\n",
       "      <td>Cooking</td>\n",
       "      <td>0.042827</td>\n",
       "    </tr>\n",
       "    <tr>\n",
       "      <th>...</th>\n",
       "      <td>...</td>\n",
       "      <td>...</td>\n",
       "    </tr>\n",
       "    <tr>\n",
       "      <th>95</th>\n",
       "      <td>Bathrooms_text_7 baths</td>\n",
       "      <td>0.000062</td>\n",
       "    </tr>\n",
       "    <tr>\n",
       "      <th>29</th>\n",
       "      <td>Property_type_Casa particular</td>\n",
       "      <td>0.000060</td>\n",
       "    </tr>\n",
       "    <tr>\n",
       "      <th>60</th>\n",
       "      <td>Property_type_Private room in hostel</td>\n",
       "      <td>0.000026</td>\n",
       "    </tr>\n",
       "    <tr>\n",
       "      <th>28</th>\n",
       "      <td>Property_type_Campsite</td>\n",
       "      <td>0.000019</td>\n",
       "    </tr>\n",
       "    <tr>\n",
       "      <th>62</th>\n",
       "      <td>Property_type_Private room in hut</td>\n",
       "      <td>0.000007</td>\n",
       "    </tr>\n",
       "  </tbody>\n",
       "</table>\n",
       "<p>101 rows × 2 columns</p>\n",
       "</div>"
      ],
      "text/plain": [
       "                                Variable  Importance\n",
       "10                                 Price    0.138561\n",
       "11                     Number_of_reviews    0.129382\n",
       "12                  Review_scores_rating    0.094241\n",
       "3                           Accommodates    0.047325\n",
       "7                                Cooking    0.042827\n",
       "..                                   ...         ...\n",
       "95                Bathrooms_text_7 baths    0.000062\n",
       "29         Property_type_Casa particular    0.000060\n",
       "60  Property_type_Private room in hostel    0.000026\n",
       "28                Property_type_Campsite    0.000019\n",
       "62     Property_type_Private room in hut    0.000007\n",
       "\n",
       "[101 rows x 2 columns]"
      ]
     },
     "execution_count": 89,
     "metadata": {},
     "output_type": "execute_result"
    }
   ],
   "source": [
    "pd.DataFrame({'Variable':X_train_stand_clean.columns,\n",
    "              'Importance':final_forest.feature_importances_}).sort_values('Importance', ascending=False)"
   ]
  },
  {
   "cell_type": "code",
   "execution_count": null,
   "metadata": {},
   "outputs": [],
   "source": []
  }
 ],
 "metadata": {
  "kernelspec": {
   "display_name": "Python 3",
   "language": "python",
   "name": "python3"
  },
  "language_info": {
   "codemirror_mode": {
    "name": "ipython",
    "version": 3
   },
   "file_extension": ".py",
   "mimetype": "text/x-python",
   "name": "python",
   "nbconvert_exporter": "python",
   "pygments_lexer": "ipython3",
   "version": "3.6.10"
  }
 },
 "nbformat": 4,
 "nbformat_minor": 2
}
